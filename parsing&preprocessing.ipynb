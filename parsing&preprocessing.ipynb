{
 "cells": [
  {
   "cell_type": "markdown",
   "metadata": {},
   "source": [
    "## RUN THIS ON TERMINAL FIRST\n",
    "docker pull ghcr.io/nlmatics/nlm-ingestor:latest\n",
    "docker run -p 5001:5001 image_id (get image_id from docker image ls)"
   ]
  },
  {
   "cell_type": "code",
   "execution_count": 4,
   "metadata": {},
   "outputs": [
    {
     "name": "stdout",
     "output_type": "stream",
     "text": [
      "Requirement already satisfied: llmsherpa in /Users/michelle/anaconda3/envs/qf2103/lib/python3.11/site-packages (0.1.4)\n",
      "Requirement already satisfied: urllib3 in /Users/michelle/anaconda3/envs/qf2103/lib/python3.11/site-packages (from llmsherpa) (1.26.18)\n",
      "Note: you may need to restart the kernel to use updated packages.\n"
     ]
    }
   ],
   "source": [
    "pip install llmsherpa"
   ]
  },
  {
   "cell_type": "code",
   "execution_count": 5,
   "metadata": {},
   "outputs": [
    {
     "name": "stderr",
     "output_type": "stream",
     "text": [
      "[nltk_data] Downloading package stopwords to\n",
      "[nltk_data]     /Users/michelle/nltk_data...\n",
      "[nltk_data]   Package stopwords is already up-to-date!\n",
      "[nltk_data] Downloading package punkt to /Users/michelle/nltk_data...\n",
      "[nltk_data]   Package punkt is already up-to-date!\n",
      "[nltk_data] Downloading package wordnet to\n",
      "[nltk_data]     /Users/michelle/nltk_data...\n",
      "[nltk_data]   Package wordnet is already up-to-date!\n"
     ]
    },
    {
     "data": {
      "text/plain": [
       "True"
      ]
     },
     "execution_count": 5,
     "metadata": {},
     "output_type": "execute_result"
    }
   ],
   "source": [
    "import os\n",
    "import nltk\n",
    "from nltk.corpus import stopwords\n",
    "from nltk.tokenize import word_tokenize\n",
    "from nltk.stem import WordNetLemmatizer\n",
    "import re\n",
    "import numpy as np\n",
    "nltk.download('stopwords')\n",
    "nltk.download('punkt')\n",
    "nltk.download('wordnet')"
   ]
  },
  {
   "cell_type": "code",
   "execution_count": 6,
   "metadata": {},
   "outputs": [
    {
     "name": "stdout",
     "output_type": "stream",
     "text": [
      "Received Files: ['/Users/michelle/Desktop/dsa4213/DSA4213/test.pdf']\n",
      "The culture of disposables has gone too far.\n",
      "It began with the small things — a plastic spoon used in place of a metal one; a styrofoam container because you cannot find time to wash your dishes, and a piece of tissue that we carelessly throw away.\n",
      "Then, we moved on to bigger things like carbon emissions and nuclear waste.\n",
      "Now, with the advancement of rocket technology, we are even planning to throw our whole planet away!\n",
      "Unfortunately, this is merely symptomatic of people’s inadequate concern with the green agenda, a term which broadly refers to the political movements promoting environmental protection and sustainable development.\n",
      "Government pays lip-service to the environmental movement to placate the people, but it only countries that are at greater risk of suffering from climate change that are taking concrete action.\n",
      "Firms have put some thought into developing sustainable business practices but this is still subordinate to the pursuit of profits.\n",
      "On the individual level, the hype around disposable containers and metal straws simply exposes a concern with the environment that extends little beyond the superficial and materialistic aspects.\n",
      "Overall, for something that affects the very livelihood of our future generations and that should be the top priority for all, far too little consideration is being given to the green agenda.\n",
      "On the government to level, optimists frequently point to the various environmental agreements that countries have signed as evidence that governments are doing what they can to support the green agenda.\n",
      "A prime example of this is the Paris Climate Agreement, which only a small handful of countries have yet to sign.\n",
      "However, this while this does show that the government is recognising and at least outwardly supporting the green agenda, it is hasty to conclude that this is sufficient to suggest that enough is being done to save the earth from the dire state that it is in today.\n",
      "In 2021, the United Nations Climate Change Council published a report which found that countries must redouble the efforts to even have a slim chance of hitting their targets in the Paris agreement.\n",
      "What this shows is that many governments are merely signing climate agreements for political capital and soft power, and that they are paying such insufficient attention to becoming green to the extent of not even being able to meet the targets that they had set for themselves.\n",
      "If one scrutinises the environmental initiatives carried out by governments of different countries, one would quickly realise that only countries that stand to benefit from taking the green agenda into account are doing so.\n",
      "The overall heavy focus on self-interest in saving the Earth in itself reveals an insufficient consideration of the true meaning behind the green agenda, which is that every single person has a duty to care for mother Earth, not just for oneself, but for the collective good.\n",
      "Singapore is one country that has sufficiently considered the green agenda in its city planning.\n",
      "For example, in 2021, the city completed construction of the worlds largest floating solar power plant along the Strait of Johor, effectively offsetting the carbon emissions of nearly 1000 cars.\n",
      "On top of that, the country also kickstarted its cooling Singapore 2.0 project in 2021, to research how it can become a greener, more liveable city.\n",
      "In contrast, many other countries have simply brushed green agenda aside in the pursuit of other goals.\n",
      "For instance, the United States refused to sign the Basel convention regulating the use of disposable plastics, after the America chemical council spent $14 million lobbying against it.\n",
      "The reason behind this disparity is clear – as a low-lying, highly urbanised city- state, Singapore stands to gain massively from mitigating the effects of climate change, so that residents’ standard of living can be maintained.\n",
      "In contrast, as a large, highly developed country, the United States is less adversely affected by global warming, and has hence prioritised its political and economic objectives over the green agenda.\n",
      "Selective consideration of the green agenda on the global scale reveals that insufficient attention is being paid to the true intentions of the movement.\n",
      "This is because without every single country, especially developed ones like America, selflessly committed to protecting the Earth we live in, it is unlikely that environmental initiatives will ever gain enough traction to make a substantial impact, before it is too late.\n",
      "A similar problem lies in the way that the green agenda is considered by firms.\n",
      "While firms take the green agenda into account when developing their business practices, it is often inadequate, as it ultimately remains subordinate to the profit incentive.\n",
      "In Indonesia, peat fires resulting from slash-and-burn tactics have been a long-standing issue despite regulation by the government.\n",
      "After a suffocating haze was released from its plantations in 2015, paper company Sinar Mas committed to increasing the sustainability of its plantations by refraining from using fire to economically clear land.\n",
      "However, it is clear that the efforts were half-hearted.\n",
      "In 2019, there was yet another bout of forest fires in Indonesia, which released more carbon dioxide than the fires in the Amazon.\n",
      "After an investigation by the authorities, it was found that while Sinar Mas did not set any fires intentionally this time round, the company also failed to take sufficient measures to prevent its highly flammable peatland from catching fire, as it was expensive to do so.\n",
      "What this example shows is that though firms are considering the sustainability aspect of their operations, it is often superficial and insufficient, as it does not go beyond abiding by the letter of the law, to ensuring that they are doing the best they can to protect the planet.\n",
      "If this continues, it is unlikely that governments will be able to meet nationwide climate goals without substantial resistance from profit- motivated firms.\n",
      "Hence, firms are doing the bare minimum for the green agenda, which is insufficient, considering how environmental protection is a collective effort, and one of the most pressing concerns of our day.\n",
      "Lastly, on the individual level, consideration of the green agenda remains materialistic and superficial, which is grossly inadequate in a time when concrete steps are needed to protect the earth.\n",
      "In recent years, reusable cutlery has been all the hype, with many companies producing forks and spoons made of metal and bamboo.\n",
      "Considering the high take-up rate in some countries such as 60% in Hong Kong, it appears that the youth are considering the green agenda in their lifestyle, and taking steps to lead a more sustainable life.\n",
      "However, individuals are still not taking sufficient responsibility to ensure sustainability beyond the physical items that they purchase.\n",
      "For example, a survey conducted in Singapore by MediaCorp in 2020, found that the vast majority of Singaporeans thought the government should be the main stakeholder doing more to push the green agenda.\n",
      "While it is true that the government has the power to make the largest impact in fostering sustainability, doing the bare minimum on the individual level and expecting the government to fill in the gaps would not cut it either.\n",
      "After all, the success of guidelines released by the government is still subject to the acceptance and reception of residents.\n",
      "To sufficiently consider the green agenda in their day-to-day life, people need to do what a small minority of youth throughout the world has done – speak up about their concerns, refuse to patronise unsustainable firms, and campaign for change.\n",
      "Taking into account the importance of individuals in pushing the green agenda, it is only by doing so that concrete changes will take place.\n",
      "Small changes like switching to reusable cutlery are a good start, but individuals need to go beyond that to have truly integrated the green agenda into their lives.\n",
      "Overall, it ironically seems that as environmental concerns become larger in scale, as it moves beyond physical items, beyond profits, and beyond the individual country, they are less and less well-considered.\n",
      "Stakeholders need to re-evaluate the extent to which the green agenda plays a role in influencing the actions, and whether this is sufficient.\n",
      "If we continue considering the sustainability movement half-heartedly, it would at our own peril.\n",
      "\n"
     ]
    }
   ],
   "source": [
    "from llmsherpa.readers import LayoutPDFReader\n",
    "\n",
    "def parse_file(filepaths: list[str]):\n",
    "    print(f'Received Files: {filepaths}')\n",
    "    all_text = ''\n",
    "    for filepath in filepaths:\n",
    "        reader = LayoutPDFReader(\"http://localhost:5001/api/parseDocument?renderFormat=all\")\n",
    "        documents = reader.read_pdf(filepath)\n",
    "        document_text = '\\n'.join([c.to_text() for c in documents.chunks()]) # print every paragraph, header, table etc.\n",
    "        all_text += document_text + \"\\n\" #add document text to accumulated string\n",
    "    return all_text\n",
    "\n",
    "# test code\n",
    "dir = os.getcwd()\n",
    "file = os.path.join(dir, \"test.pdf\")\n",
    "uploaded_text = parse_file([file])\n",
    "print(uploaded_text)"
   ]
  },
  {
   "cell_type": "code",
   "execution_count": 7,
   "metadata": {},
   "outputs": [],
   "source": [
    "#Function to preprocess text\n",
    "def preprocess_text(text):\n",
    "    # Convert to lowercase\n",
    "    text = text.lower()\n",
    "\n",
    "    # Remove punctuation and non-alphanumeric characters\n",
    "    text = re.sub(r'[^a-zA-Z0-9\\s]', '', text)\n",
    "\n",
    "    # Tokenization\n",
    "    tokens = word_tokenize(text)\n",
    "\n",
    "    # Remove stopwords\n",
    "    stop_words = set(stopwords.words('english'))\n",
    "    tokens = [word for word in tokens if word not in stop_words]\n",
    "\n",
    "    # Lemmatization\n",
    "    lemmatizer = WordNetLemmatizer()\n",
    "    tokens = [lemmatizer.lemmatize(token) for token in tokens]\n",
    "\n",
    "    return tokens"
   ]
  },
  {
   "cell_type": "code",
   "execution_count": 13,
   "metadata": {},
   "outputs": [
    {
     "name": "stdout",
     "output_type": "stream",
     "text": [
      "Filename: test.pdf\n",
      "Original Text: The culture of disposables has gone too far.\n",
      "It began with the small things — a plastic spoon used in place of a metal one; a styrofoam container because you cannot find time to wash your dishes, and a piece of tissue that we carelessly throw away.\n",
      "Then, we moved on to bigger things like carbon emissions and nuclear waste.\n",
      "Now, with the advancement of rocket technology, we are even planning to throw our whole planet away!\n",
      "Unfortunately, this is merely symptomatic of people’s inadequate concern with the green agenda, a term which broadly refers to the political movements promoting environmental protection and sustainable development.\n",
      "Government pays lip-service to the environmental movement to placate the people, but it only countries that are at greater risk of suffering from climate change that are taking concrete action.\n",
      "Firms have put some thought into developing sustainable business practices but this is still subordinate to the pursuit of profits.\n",
      "On the individual level, the hype around disposable containers and metal straws simply exposes a concern with the environment that extends little beyond the superficial and materialistic aspects.\n",
      "Overall, for something that affects the very livelihood of our future generations and that should be the top priority for all, far too little consideration is being given to the green agenda.\n",
      "On the government to level, optimists frequently point to the various environmental agreements that countries have signed as evidence that governments are doing what they can to support the green agenda.\n",
      "A prime example of this is the Paris Climate Agreement, which only a small handful of countries have yet to sign.\n",
      "However, this while this does show that the government is recognising and at least outwardly supporting the green agenda, it is hasty to conclude that this is sufficient to suggest that enough is being done to save the earth from the dire state that it is in today.\n",
      "In 2021, the United Nations Climate Change Council published a report which found that countries must redouble the efforts to even have a slim chance of hitting their targets in the Paris agreement.\n",
      "What this shows is that many governments are merely signing climate agreements for political capital and soft power, and that they are paying such insufficient attention to becoming green to the extent of not even being able to meet the targets that they had set for themselves.\n",
      "If one scrutinises the environmental initiatives carried out by governments of different countries, one would quickly realise that only countries that stand to benefit from taking the green agenda into account are doing so.\n",
      "The overall heavy focus on self-interest in saving the Earth in itself reveals an insufficient consideration of the true meaning behind the green agenda, which is that every single person has a duty to care for mother Earth, not just for oneself, but for the collective good.\n",
      "Singapore is one country that has sufficiently considered the green agenda in its city planning.\n",
      "For example, in 2021, the city completed construction of the worlds largest floating solar power plant along the Strait of Johor, effectively offsetting the carbon emissions of nearly 1000 cars.\n",
      "On top of that, the country also kickstarted its cooling Singapore 2.0 project in 2021, to research how it can become a greener, more liveable city.\n",
      "In contrast, many other countries have simply brushed green agenda aside in the pursuit of other goals.\n",
      "For instance, the United States refused to sign the Basel convention regulating the use of disposable plastics, after the America chemical council spent $14 million lobbying against it.\n",
      "The reason behind this disparity is clear – as a low-lying, highly urbanised city- state, Singapore stands to gain massively from mitigating the effects of climate change, so that residents’ standard of living can be maintained.\n",
      "In contrast, as a large, highly developed country, the United States is less adversely affected by global warming, and has hence prioritised its political and economic objectives over the green agenda.\n",
      "Selective consideration of the green agenda on the global scale reveals that insufficient attention is being paid to the true intentions of the movement.\n",
      "This is because without every single country, especially developed ones like America, selflessly committed to protecting the Earth we live in, it is unlikely that environmental initiatives will ever gain enough traction to make a substantial impact, before it is too late.\n",
      "A similar problem lies in the way that the green agenda is considered by firms.\n",
      "While firms take the green agenda into account when developing their business practices, it is often inadequate, as it ultimately remains subordinate to the profit incentive.\n",
      "In Indonesia, peat fires resulting from slash-and-burn tactics have been a long-standing issue despite regulation by the government.\n",
      "After a suffocating haze was released from its plantations in 2015, paper company Sinar Mas committed to increasing the sustainability of its plantations by refraining from using fire to economically clear land.\n",
      "However, it is clear that the efforts were half-hearted.\n",
      "In 2019, there was yet another bout of forest fires in Indonesia, which released more carbon dioxide than the fires in the Amazon.\n",
      "After an investigation by the authorities, it was found that while Sinar Mas did not set any fires intentionally this time round, the company also failed to take sufficient measures to prevent its highly flammable peatland from catching fire, as it was expensive to do so.\n",
      "What this example shows is that though firms are considering the sustainability aspect of their operations, it is often superficial and insufficient, as it does not go beyond abiding by the letter of the law, to ensuring that they are doing the best they can to protect the planet.\n",
      "If this continues, it is unlikely that governments will be able to meet nationwide climate goals without substantial resistance from profit- motivated firms.\n",
      "Hence, firms are doing the bare minimum for the green agenda, which is insufficient, considering how environmental protection is a collective effort, and one of the most pressing concerns of our day.\n",
      "Lastly, on the individual level, consideration of the green agenda remains materialistic and superficial, which is grossly inadequate in a time when concrete steps are needed to protect the earth.\n",
      "In recent years, reusable cutlery has been all the hype, with many companies producing forks and spoons made of metal and bamboo.\n",
      "Considering the high take-up rate in some countries such as 60% in Hong Kong, it appears that the youth are considering the green agenda in their lifestyle, and taking steps to lead a more sustainable life.\n",
      "However, individuals are still not taking sufficient responsibility to ensure sustainability beyond the physical items that they purchase.\n",
      "For example, a survey conducted in Singapore by MediaCorp in 2020, found that the vast majority of Singaporeans thought the government should be the main stakeholder doing more to push the green agenda.\n",
      "While it is true that the government has the power to make the largest impact in fostering sustainability, doing the bare minimum on the individual level and expecting the government to fill in the gaps would not cut it either.\n",
      "After all, the success of guidelines released by the government is still subject to the acceptance and reception of residents.\n",
      "To sufficiently consider the green agenda in their day-to-day life, people need to do what a small minority of youth throughout the world has done – speak up about their concerns, refuse to patronise unsustainable firms, and campaign for change.\n",
      "Taking into account the importance of individuals in pushing the green agenda, it is only by doing so that concrete changes will take place.\n",
      "Small changes like switching to reusable cutlery are a good start, but individuals need to go beyond that to have truly integrated the green agenda into their lives.\n",
      "Overall, it ironically seems that as environmental concerns become larger in scale, as it moves beyond physical items, beyond profits, and beyond the individual country, they are less and less well-considered.\n",
      "Stakeholders need to re-evaluate the extent to which the green agenda plays a role in influencing the actions, and whether this is sufficient.\n",
      "If we continue considering the sustainability movement half-heartedly, it would at our own peril.\n",
      "\n",
      "Processed Text: ['culture', 'disposable', 'gone', 'far', 'began', 'small', 'thing', 'plastic', 'spoon', 'used', 'place', 'metal', 'one', 'styrofoam', 'container', 'find', 'time', 'wash', 'dish', 'piece', 'tissue', 'carelessly', 'throw', 'away', 'moved', 'bigger', 'thing', 'like', 'carbon', 'emission', 'nuclear', 'waste', 'advancement', 'rocket', 'technology', 'even', 'planning', 'throw', 'whole', 'planet', 'away', 'unfortunately', 'merely', 'symptomatic', 'people', 'inadequate', 'concern', 'green', 'agenda', 'term', 'broadly', 'refers', 'political', 'movement', 'promoting', 'environmental', 'protection', 'sustainable', 'development', 'government', 'pay', 'lipservice', 'environmental', 'movement', 'placate', 'people', 'country', 'greater', 'risk', 'suffering', 'climate', 'change', 'taking', 'concrete', 'action', 'firm', 'put', 'thought', 'developing', 'sustainable', 'business', 'practice', 'still', 'subordinate', 'pursuit', 'profit', 'individual', 'level', 'hype', 'around', 'disposable', 'container', 'metal', 'straw', 'simply', 'expose', 'concern', 'environment', 'extends', 'little', 'beyond', 'superficial', 'materialistic', 'aspect', 'overall', 'something', 'affect', 'livelihood', 'future', 'generation', 'top', 'priority', 'far', 'little', 'consideration', 'given', 'green', 'agenda', 'government', 'level', 'optimist', 'frequently', 'point', 'various', 'environmental', 'agreement', 'country', 'signed', 'evidence', 'government', 'support', 'green', 'agenda', 'prime', 'example', 'paris', 'climate', 'agreement', 'small', 'handful', 'country', 'yet', 'sign', 'however', 'show', 'government', 'recognising', 'least', 'outwardly', 'supporting', 'green', 'agenda', 'hasty', 'conclude', 'sufficient', 'suggest', 'enough', 'done', 'save', 'earth', 'dire', 'state', 'today', '2021', 'united', 'nation', 'climate', 'change', 'council', 'published', 'report', 'found', 'country', 'must', 'redouble', 'effort', 'even', 'slim', 'chance', 'hitting', 'target', 'paris', 'agreement', 'show', 'many', 'government', 'merely', 'signing', 'climate', 'agreement', 'political', 'capital', 'soft', 'power', 'paying', 'insufficient', 'attention', 'becoming', 'green', 'extent', 'even', 'able', 'meet', 'target', 'set', 'one', 'scrutinises', 'environmental', 'initiative', 'carried', 'government', 'different', 'country', 'one', 'would', 'quickly', 'realise', 'country', 'stand', 'benefit', 'taking', 'green', 'agenda', 'account', 'overall', 'heavy', 'focus', 'selfinterest', 'saving', 'earth', 'reveals', 'insufficient', 'consideration', 'true', 'meaning', 'behind', 'green', 'agenda', 'every', 'single', 'person', 'duty', 'care', 'mother', 'earth', 'oneself', 'collective', 'good', 'singapore', 'one', 'country', 'sufficiently', 'considered', 'green', 'agenda', 'city', 'planning', 'example', '2021', 'city', 'completed', 'construction', 'world', 'largest', 'floating', 'solar', 'power', 'plant', 'along', 'strait', 'johor', 'effectively', 'offsetting', 'carbon', 'emission', 'nearly', '1000', 'car', 'top', 'country', 'also', 'kickstarted', 'cooling', 'singapore', '20', 'project', '2021', 'research', 'become', 'greener', 'liveable', 'city', 'contrast', 'many', 'country', 'simply', 'brushed', 'green', 'agenda', 'aside', 'pursuit', 'goal', 'instance', 'united', 'state', 'refused', 'sign', 'basel', 'convention', 'regulating', 'use', 'disposable', 'plastic', 'america', 'chemical', 'council', 'spent', '14', 'million', 'lobbying', 'reason', 'behind', 'disparity', 'clear', 'lowlying', 'highly', 'urbanised', 'city', 'state', 'singapore', 'stand', 'gain', 'massively', 'mitigating', 'effect', 'climate', 'change', 'resident', 'standard', 'living', 'maintained', 'contrast', 'large', 'highly', 'developed', 'country', 'united', 'state', 'le', 'adversely', 'affected', 'global', 'warming', 'hence', 'prioritised', 'political', 'economic', 'objective', 'green', 'agenda', 'selective', 'consideration', 'green', 'agenda', 'global', 'scale', 'reveals', 'insufficient', 'attention', 'paid', 'true', 'intention', 'movement', 'without', 'every', 'single', 'country', 'especially', 'developed', 'one', 'like', 'america', 'selflessly', 'committed', 'protecting', 'earth', 'live', 'unlikely', 'environmental', 'initiative', 'ever', 'gain', 'enough', 'traction', 'make', 'substantial', 'impact', 'late', 'similar', 'problem', 'lie', 'way', 'green', 'agenda', 'considered', 'firm', 'firm', 'take', 'green', 'agenda', 'account', 'developing', 'business', 'practice', 'often', 'inadequate', 'ultimately', 'remains', 'subordinate', 'profit', 'incentive', 'indonesia', 'peat', 'fire', 'resulting', 'slashandburn', 'tactic', 'longstanding', 'issue', 'despite', 'regulation', 'government', 'suffocating', 'haze', 'released', 'plantation', '2015', 'paper', 'company', 'sinar', 'ma', 'committed', 'increasing', 'sustainability', 'plantation', 'refraining', 'using', 'fire', 'economically', 'clear', 'land', 'however', 'clear', 'effort', 'halfhearted', '2019', 'yet', 'another', 'bout', 'forest', 'fire', 'indonesia', 'released', 'carbon', 'dioxide', 'fire', 'amazon', 'investigation', 'authority', 'found', 'sinar', 'ma', 'set', 'fire', 'intentionally', 'time', 'round', 'company', 'also', 'failed', 'take', 'sufficient', 'measure', 'prevent', 'highly', 'flammable', 'peatland', 'catching', 'fire', 'expensive', 'example', 'show', 'though', 'firm', 'considering', 'sustainability', 'aspect', 'operation', 'often', 'superficial', 'insufficient', 'go', 'beyond', 'abiding', 'letter', 'law', 'ensuring', 'best', 'protect', 'planet', 'continues', 'unlikely', 'government', 'able', 'meet', 'nationwide', 'climate', 'goal', 'without', 'substantial', 'resistance', 'profit', 'motivated', 'firm', 'hence', 'firm', 'bare', 'minimum', 'green', 'agenda', 'insufficient', 'considering', 'environmental', 'protection', 'collective', 'effort', 'one', 'pressing', 'concern', 'day', 'lastly', 'individual', 'level', 'consideration', 'green', 'agenda', 'remains', 'materialistic', 'superficial', 'grossly', 'inadequate', 'time', 'concrete', 'step', 'needed', 'protect', 'earth', 'recent', 'year', 'reusable', 'cutlery', 'hype', 'many', 'company', 'producing', 'fork', 'spoon', 'made', 'metal', 'bamboo', 'considering', 'high', 'takeup', 'rate', 'country', '60', 'hong', 'kong', 'appears', 'youth', 'considering', 'green', 'agenda', 'lifestyle', 'taking', 'step', 'lead', 'sustainable', 'life', 'however', 'individual', 'still', 'taking', 'sufficient', 'responsibility', 'ensure', 'sustainability', 'beyond', 'physical', 'item', 'purchase', 'example', 'survey', 'conducted', 'singapore', 'mediacorp', '2020', 'found', 'vast', 'majority', 'singaporean', 'thought', 'government', 'main', 'stakeholder', 'push', 'green', 'agenda', 'true', 'government', 'power', 'make', 'largest', 'impact', 'fostering', 'sustainability', 'bare', 'minimum', 'individual', 'level', 'expecting', 'government', 'fill', 'gap', 'would', 'cut', 'either', 'success', 'guideline', 'released', 'government', 'still', 'subject', 'acceptance', 'reception', 'resident', 'sufficiently', 'consider', 'green', 'agenda', 'daytoday', 'life', 'people', 'need', 'small', 'minority', 'youth', 'throughout', 'world', 'done', 'speak', 'concern', 'refuse', 'patronise', 'unsustainable', 'firm', 'campaign', 'change', 'taking', 'account', 'importance', 'individual', 'pushing', 'green', 'agenda', 'concrete', 'change', 'take', 'place', 'small', 'change', 'like', 'switching', 'reusable', 'cutlery', 'good', 'start', 'individual', 'need', 'go', 'beyond', 'truly', 'integrated', 'green', 'agenda', 'life', 'overall', 'ironically', 'seems', 'environmental', 'concern', 'become', 'larger', 'scale', 'move', 'beyond', 'physical', 'item', 'beyond', 'profit', 'beyond', 'individual', 'country', 'le', 'le', 'wellconsidered', 'stakeholder', 'need', 'reevaluate', 'extent', 'green', 'agenda', 'play', 'role', 'influencing', 'action', 'whether', 'sufficient', 'continue', 'considering', 'sustainability', 'movement', 'halfheartedly', 'would', 'peril']\n"
     ]
    }
   ],
   "source": [
    "#Function to preprocess input document\n",
    "def preprocess_document(text):\n",
    "    processed_text = preprocess_text(text)\n",
    "    filename = os.path.basename(file) #retrieve filename\n",
    "\n",
    "    processed_document = {}\n",
    "\n",
    "    processed_document[\"Filename\"] = filename\n",
    "    processed_document[\"Original_text\"] = text\n",
    "    processed_document[\"Processed_text\"] = processed_text\n",
    "\n",
    "    print(f\"Filename: {processed_document['Filename']}\")\n",
    "    print(f\"Original Text: {processed_document['Original_text']}\")\n",
    "    print(f\"Processed Text: {processed_document['Processed_text']}\")\n",
    "\n",
    "    return processed_document['Processed_text']\n",
    "\n",
    "processed = preprocess_document(uploaded_text)"
   ]
  }
 ],
 "metadata": {
  "kernelspec": {
   "display_name": "Python 3",
   "language": "python",
   "name": "python3"
  },
  "language_info": {
   "codemirror_mode": {
    "name": "ipython",
    "version": 3
   },
   "file_extension": ".py",
   "mimetype": "text/x-python",
   "name": "python",
   "nbconvert_exporter": "python",
   "pygments_lexer": "ipython3",
   "version": "3.11.7"
  }
 },
 "nbformat": 4,
 "nbformat_minor": 2
}
