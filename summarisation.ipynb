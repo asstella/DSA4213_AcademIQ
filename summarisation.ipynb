{
 "cells": [
  {
   "cell_type": "code",
   "execution_count": 5,
   "metadata": {},
   "outputs": [],
   "source": [
    "# !pip install h2ogpte\n",
    "\n",
    "# from h2ogpte import H2OGPTE"
   ]
  },
  {
   "cell_type": "code",
   "execution_count": 16,
   "metadata": {},
   "outputs": [],
   "source": [
    "def text_summariser(text_content: str):\n",
    "    client = H2OGPTE(\n",
    "        address='https://h2ogpte.genai.h2o.ai',\n",
    "        api_key='sk-rWllOURibnB1EzBeMCvWstytoiaDv2xRNa1QilqFPzNVYvkM',\n",
    "    )\n",
    "\n",
    "    summary = client.summarize_content(\n",
    "        pre_prompt_summary=\"Summarize the content below.\\n\",\n",
    "        text_context_list=[text_content],\n",
    "        prompt_summary=\"Now summarize the above into a couple of paragraphs.\"\n",
    "    )\n",
    "\n",
    "    return summary.content"
   ]
  },
  {
   "cell_type": "code",
   "execution_count": 17,
   "metadata": {},
   "outputs": [
    {
     "name": "stdout",
     "output_type": "stream",
     "text": [
      "Warning: Server version 1.4.9 doesn't match client version 1.4.10: unexpected errors may occur.\n",
      "Please install the correct version of H2OGPTE with `pip install h2ogpte==1.4.9`.\n",
      "You can enable strict version checking by passing strict_version_check=True.\n"
     ]
    }
   ],
   "source": [
    "## test\n",
    "\n",
    "text_document = \"processedtext.txt\"\n",
    "\n",
    "with open(text_document, \"r\", encoding=\"utf-8\") as file:\n",
    "    text_content = file.read()\n",
    "\n",
    "\n",
    "text = text_summariser(text_content)"
   ]
  },
  {
   "cell_type": "code",
   "execution_count": 14,
   "metadata": {},
   "outputs": [
    {
     "name": "stdout",
     "output_type": "stream",
     "text": [
      "The text is a collection of statements about the environment and the \"green agenda,\" which generally refers to a political movement promoting environmental protection and sustainable development. The text notes that many governments pay lip service to the environmental movement to placate people, but do not take concrete actions to reduce carbon emissions or address climate change. Even individuals who are concerned about the environment may not give it sufficient consideration in their daily lives, as the \"hype\" around disposable containers and metal straws is often superficial and extends little beyond materialistic aspects.\n",
      "\n",
      "The text also points out that while some countries, such as Singapore, have taken steps to become greener and more sustainable, other countries, particularly developed ones like the United States, have been slow to commit to protecting the earth. The text suggests that without every single country, especially developed ones, selflessly committed to protecting the earth, environmental initiatives are unlikely to gain enough traction to make a substantial impact. The text also notes that the government is the main stakeholder in pushing the green agenda, but individual responsibility is also important. The text concludes by stating that a well-considered stakeholder needs to reevaluate the extent to which the green agenda plays a role in influencing action, and whether they are considering sustainability movements halfheartedly. A true environmental concern has moved beyond physical items and profit, and it is imperative for individuals and countries to take concrete steps towards a greener future.\n"
     ]
    }
   ],
   "source": [
    "print(text)"
   ]
  },
  {
   "cell_type": "code",
   "execution_count": null,
   "metadata": {},
   "outputs": [],
   "source": []
  }
 ],
 "metadata": {
  "kernelspec": {
   "display_name": "qf2103",
   "language": "python",
   "name": "python3"
  },
  "language_info": {
   "codemirror_mode": {
    "name": "ipython",
    "version": 3
   },
   "file_extension": ".py",
   "mimetype": "text/x-python",
   "name": "python",
   "nbconvert_exporter": "python",
   "pygments_lexer": "ipython3",
   "version": "3.11.7"
  },
  "orig_nbformat": 4
 },
 "nbformat": 4,
 "nbformat_minor": 2
}
