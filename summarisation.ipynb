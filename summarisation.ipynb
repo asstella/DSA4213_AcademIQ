{
 "cells": [
  {
   "cell_type": "code",
   "execution_count": 30,
   "metadata": {},
   "outputs": [
    {
     "name": "stdout",
     "output_type": "stream",
     "text": [
      "Requirement already satisfied: h2ogpte in /Library/Frameworks/Python.framework/Versions/3.10/lib/python3.10/site-packages (1.4.9)\n",
      "Requirement already satisfied: aiofiles==23.2.1 in /Library/Frameworks/Python.framework/Versions/3.10/lib/python3.10/site-packages (from h2ogpte) (23.2.1)\n",
      "Requirement already satisfied: pydantic==2.5.2 in /Library/Frameworks/Python.framework/Versions/3.10/lib/python3.10/site-packages (from pydantic[dotenv]==2.5.2->h2ogpte) (2.5.2)\n",
      "Requirement already satisfied: pydantic-settings==2.0.3 in /Library/Frameworks/Python.framework/Versions/3.10/lib/python3.10/site-packages (from h2ogpte) (2.0.3)\n",
      "Requirement already satisfied: requests==2.31.0 in /Library/Frameworks/Python.framework/Versions/3.10/lib/python3.10/site-packages (from h2ogpte) (2.31.0)\n",
      "Requirement already satisfied: websockets==11.0.3 in /Library/Frameworks/Python.framework/Versions/3.10/lib/python3.10/site-packages (from h2ogpte) (11.0.3)\n",
      "Requirement already satisfied: beautifulsoup4==4.12.2 in /Library/Frameworks/Python.framework/Versions/3.10/lib/python3.10/site-packages (from h2ogpte) (4.12.2)\n",
      "Requirement already satisfied: bs4==0.0.1 in /Library/Frameworks/Python.framework/Versions/3.10/lib/python3.10/site-packages (from h2ogpte) (0.0.1)\n",
      "Requirement already satisfied: lxml==4.9.3 in /Library/Frameworks/Python.framework/Versions/3.10/lib/python3.10/site-packages (from h2ogpte) (4.9.3)\n",
      "Requirement already satisfied: pandas>=1.3.5 in /Library/Frameworks/Python.framework/Versions/3.10/lib/python3.10/site-packages (from h2ogpte) (2.1.1)\n",
      "Requirement already satisfied: packaging in /Library/Frameworks/Python.framework/Versions/3.10/lib/python3.10/site-packages (from h2ogpte) (23.1)\n",
      "Requirement already satisfied: httpx==0.26.0 in /Library/Frameworks/Python.framework/Versions/3.10/lib/python3.10/site-packages (from h2ogpte) (0.26.0)\n",
      "Requirement already satisfied: h2o-authn==2.0.0 in /Library/Frameworks/Python.framework/Versions/3.10/lib/python3.10/site-packages (from h2ogpte) (2.0.0)\n",
      "Requirement already satisfied: soupsieve>1.2 in /Library/Frameworks/Python.framework/Versions/3.10/lib/python3.10/site-packages (from beautifulsoup4==4.12.2->h2ogpte) (2.5)\n",
      "Requirement already satisfied: anyio in /Library/Frameworks/Python.framework/Versions/3.10/lib/python3.10/site-packages (from httpx==0.26.0->h2ogpte) (4.0.0)\n",
      "Requirement already satisfied: certifi in /Library/Frameworks/Python.framework/Versions/3.10/lib/python3.10/site-packages (from httpx==0.26.0->h2ogpte) (2023.7.22)\n",
      "Requirement already satisfied: httpcore==1.* in /Library/Frameworks/Python.framework/Versions/3.10/lib/python3.10/site-packages (from httpx==0.26.0->h2ogpte) (1.0.4)\n",
      "Requirement already satisfied: idna in /Library/Frameworks/Python.framework/Versions/3.10/lib/python3.10/site-packages (from httpx==0.26.0->h2ogpte) (3.4)\n",
      "Requirement already satisfied: sniffio in /Library/Frameworks/Python.framework/Versions/3.10/lib/python3.10/site-packages (from httpx==0.26.0->h2ogpte) (1.3.0)\n",
      "Requirement already satisfied: annotated-types>=0.4.0 in /Library/Frameworks/Python.framework/Versions/3.10/lib/python3.10/site-packages (from pydantic==2.5.2->pydantic[dotenv]==2.5.2->h2ogpte) (0.6.0)\n",
      "Requirement already satisfied: pydantic-core==2.14.5 in /Library/Frameworks/Python.framework/Versions/3.10/lib/python3.10/site-packages (from pydantic==2.5.2->pydantic[dotenv]==2.5.2->h2ogpte) (2.14.5)\n",
      "Requirement already satisfied: typing-extensions>=4.6.1 in /Library/Frameworks/Python.framework/Versions/3.10/lib/python3.10/site-packages (from pydantic==2.5.2->pydantic[dotenv]==2.5.2->h2ogpte) (4.7.1)\n",
      "Requirement already satisfied: python-dotenv>=0.21.0 in /Library/Frameworks/Python.framework/Versions/3.10/lib/python3.10/site-packages (from pydantic-settings==2.0.3->h2ogpte) (1.0.0)\n",
      "\u001b[33mWARNING: pydantic 2.5.2 does not provide the extra 'dotenv'\u001b[0m\u001b[33m\n",
      "\u001b[0mRequirement already satisfied: charset-normalizer<4,>=2 in /Library/Frameworks/Python.framework/Versions/3.10/lib/python3.10/site-packages (from requests==2.31.0->h2ogpte) (3.2.0)\n",
      "Requirement already satisfied: urllib3<3,>=1.21.1 in /Library/Frameworks/Python.framework/Versions/3.10/lib/python3.10/site-packages (from requests==2.31.0->h2ogpte) (2.0.4)\n",
      "Requirement already satisfied: h11<0.15,>=0.13 in /Library/Frameworks/Python.framework/Versions/3.10/lib/python3.10/site-packages (from httpcore==1.*->httpx==0.26.0->h2ogpte) (0.14.0)\n",
      "Requirement already satisfied: numpy>=1.22.4 in /Library/Frameworks/Python.framework/Versions/3.10/lib/python3.10/site-packages (from pandas>=1.3.5->h2ogpte) (1.26.0)\n",
      "Requirement already satisfied: python-dateutil>=2.8.2 in /Library/Frameworks/Python.framework/Versions/3.10/lib/python3.10/site-packages (from pandas>=1.3.5->h2ogpte) (2.8.2)\n",
      "Requirement already satisfied: pytz>=2020.1 in /Library/Frameworks/Python.framework/Versions/3.10/lib/python3.10/site-packages (from pandas>=1.3.5->h2ogpte) (2023.3.post1)\n",
      "Requirement already satisfied: tzdata>=2022.1 in /Library/Frameworks/Python.framework/Versions/3.10/lib/python3.10/site-packages (from pandas>=1.3.5->h2ogpte) (2023.3)\n",
      "Requirement already satisfied: six>=1.5 in /Library/Frameworks/Python.framework/Versions/3.10/lib/python3.10/site-packages (from python-dateutil>=2.8.2->pandas>=1.3.5->h2ogpte) (1.16.0)\n",
      "Requirement already satisfied: exceptiongroup>=1.0.2 in /Library/Frameworks/Python.framework/Versions/3.10/lib/python3.10/site-packages (from anyio->httpx==0.26.0->h2ogpte) (1.1.3)\n"
     ]
    }
   ],
   "source": [
    "!pip install h2ogpte\n",
    "\n",
    "from h2ogpte import H2OGPTE"
   ]
  },
  {
   "cell_type": "code",
   "execution_count": 31,
   "metadata": {},
   "outputs": [],
   "source": [
    "def text_summariser(text_content: str):\n",
    "    client = H2OGPTE(\n",
    "        address='https://h2ogpte.genai.h2o.ai',\n",
    "        api_key='sk-rWllOURibnB1EzBeMCvWstytoiaDv2xRNa1QilqFPzNVYvkM',\n",
    "    )\n",
    "\n",
    "    summary = client.summarize_content(\n",
    "        pre_prompt_summary=\"Summarize the content below.\\n\",\n",
    "        text_context_list=[text_content],\n",
    "        prompt_summary=\"Now summarize the above into a couple of paragraphs.\"\n",
    "    )\n",
    "\n",
    "    return summary.content"
   ]
  },
  {
   "cell_type": "code",
   "execution_count": 32,
   "metadata": {},
   "outputs": [
    {
     "name": "stdout",
     "output_type": "stream",
     "text": [
      "The text is a collection of statements about the environment and the \"green agenda,\" which generally refers to a political movement promoting environmental protection and sustainable development. The text notes that many governments pay lip service to the environmental movement to placate people, but do not take concrete actions to reduce carbon emissions or address climate change. Even individuals who are concerned about the environment may not give it sufficient consideration in their daily lives, as the \"hype\" around disposable containers and metal straws is often superficial and extends little beyond materialistic aspects.\n",
      "\n",
      "The text also points out that while some countries, such as Singapore, have taken steps to become greener and more sustainable, other countries, particularly developed ones like the United States, have been slow to commit to protecting the earth. The text suggests that without every single country, especially developed ones, selflessly committed to protecting the earth, environmental initiatives are unlikely to gain enough traction to make a substantial impact. The text also notes that the government is the main stakeholder in pushing the green agenda, but individual responsibility is also important. The text concludes by stating that a well-considered stakeholder needs to reevaluate the extent to which the green agenda plays a role in influencing action, and whether they are considering sustainability movements halfheartedly. A true environmental concern has moved beyond physical items and profit, and it is imperative for individuals and countries to take concrete steps towards a greener future.\n"
     ]
    }
   ],
   "source": [
    "## test\n",
    "\n",
    "text_document = \"processedtext.txt\"\n",
    "\n",
    "with open(text_document, \"r\", encoding=\"utf-8\") as file:\n",
    "    text_content = file.read()\n",
    "\n",
    "print(text_summariser(text_content))"
   ]
  }
 ],
 "metadata": {
  "kernelspec": {
   "display_name": "qf2103",
   "language": "python",
   "name": "python3"
  },
  "language_info": {
   "codemirror_mode": {
    "name": "ipython",
    "version": 3
   },
   "file_extension": ".py",
   "mimetype": "text/x-python",
   "name": "python",
   "nbconvert_exporter": "python",
   "pygments_lexer": "ipython3",
   "version": "3.10.11"
  },
  "orig_nbformat": 4
 },
 "nbformat": 4,
 "nbformat_minor": 2
}
